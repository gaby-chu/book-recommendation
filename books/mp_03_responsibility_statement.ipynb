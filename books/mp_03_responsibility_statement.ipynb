{
 "cells": [
  {
   "cell_type": "markdown",
   "id": "13fb23c4-76af-4c2e-aa46-70479a1e9abd",
   "metadata": {},
   "source": [
    "# Mini-project part III: Responsibility statement\n",
    "\n",
    "## Submission instructions\n",
    "\n",
    "**Note:** If you worked alone on the project (a group of one), you are not required to submit the responsibility statement.\n",
    "\n",
    "1. Complete this Jupyter Notebook. \n",
    " \n",
    "1. Upload the statement as an individual submission for the assignment \"MP03: Responsibility statement\" on CMS."
   ]
  },
  {
   "cell_type": "markdown",
   "id": "828a934b-072a-438d-988f-a445036c26ae",
   "metadata": {},
   "source": [
    "## Describe each member's contributions to the project, including your own.\n",
    "\n",
    "Write your description **here**. Refer to your groupmates using their NetIDs."
   ]
  },
  {
   "cell_type": "markdown",
   "id": "3f2cacc2-cc3f-4b7e-95ec-e196eabf8307",
   "metadata": {},
   "source": [
    "Team members: Estelle Hooper (ehh52), Gabriella Chu (gc386) <br>\n",
    "Link to GitHub repository: "
   ]
  },
  {
   "cell_type": "code",
   "execution_count": null,
   "id": "cd352306-23c6-43ae-807f-ccb3247c4131",
   "metadata": {},
   "outputs": [],
   "source": []
  }
 ],
 "metadata": {
  "kernelspec": {
   "display_name": "Python 3 (ipykernel)",
   "language": "python",
   "name": "python3"
  },
  "language_info": {
   "codemirror_mode": {
    "name": "ipython",
    "version": 3
   },
   "file_extension": ".py",
   "mimetype": "text/x-python",
   "name": "python",
   "nbconvert_exporter": "python",
   "pygments_lexer": "ipython3",
   "version": "3.9.7"
  }
 },
 "nbformat": 4,
 "nbformat_minor": 5
}
