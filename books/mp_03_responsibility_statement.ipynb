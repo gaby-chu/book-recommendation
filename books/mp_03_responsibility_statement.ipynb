{
 "cells": [
  {
   "cell_type": "markdown",
   "id": "13fb23c4-76af-4c2e-aa46-70479a1e9abd",
   "metadata": {},
   "source": [
    "# Mini-project part III: Responsibility statement\n",
    "\n",
    "## Submission instructions\n",
    "\n",
    "**Note:** If you worked alone on the project (a group of one), you are not required to submit the responsibility statement.\n",
    "\n",
    "1. Complete this Jupyter Notebook. \n",
    " \n",
    "1. Upload the statement as an individual submission for the assignment \"MP03: Responsibility statement\" on CMS."
   ]
  },
  {
   "cell_type": "markdown",
   "id": "828a934b-072a-438d-988f-a445036c26ae",
   "metadata": {},
   "source": [
    "## Describe each member's contributions to the project, including your own.\n",
    "\n",
    "Write your description **here**. Refer to your groupmates using their NetIDs."
   ]
  },
  {
   "cell_type": "markdown",
   "id": "3f2cacc2-cc3f-4b7e-95ec-e196eabf8307",
   "metadata": {},
   "source": [
    "Team members: Estelle Hooper (ehh52), Gabriella Chu (gc386) <br>\n",
    "Link to GitHub repository: https://github.com/gaby-chu/info-3350-mp3.git"
   ]
  },
  {
   "cell_type": "markdown",
   "id": "968c6318-d2fd-4ef5-b8ca-55e969387ae3",
   "metadata": {},
   "source": [
    "Since the time period for working on this project was really short, we met up in person for a couple of days and worked on each part of the project together. We did make a GitHub repo (as seen above) to easily share code, but for the most part we were in the same room looking at the same screens and working on the Mini Project together and share equal responsibility for each part. For the write-ups sections, each person read over and edited the parts but each part did have a main author, as listed below."
   ]
  },
  {
   "cell_type": "markdown",
   "id": "1e9a8f03-7b1b-4c14-8043-8250e8883b4c",
   "metadata": {},
   "source": [
    "Estelle's tasks:\n",
    "- Part 1: Questions\n",
    "- Part 2: Methods\n",
    "- Part 3: Code (shared with Gaby)\n",
    "- Part 6: Resources Consulted\n",
    "- edit Gaby's writing"
   ]
  },
  {
   "cell_type": "markdown",
   "id": "201f6053-974b-40fe-ba4b-ea5a8e524d37",
   "metadata": {},
   "source": [
    "Gaby's tasks:\n",
    "- Part 3: Code (shared with Estelle)\n",
    "- Part 4: Results and discussion\n",
    "- Part 5: Reflection\n",
    "- edit Estelle's writing"
   ]
  }
 ],
 "metadata": {
  "kernelspec": {
   "display_name": "Python 3 (ipykernel)",
   "language": "python",
   "name": "python3"
  },
  "language_info": {
   "codemirror_mode": {
    "name": "ipython",
    "version": 3
   },
   "file_extension": ".py",
   "mimetype": "text/x-python",
   "name": "python",
   "nbconvert_exporter": "python",
   "pygments_lexer": "ipython3",
   "version": "3.9.7"
  }
 },
 "nbformat": 4,
 "nbformat_minor": 5
}
