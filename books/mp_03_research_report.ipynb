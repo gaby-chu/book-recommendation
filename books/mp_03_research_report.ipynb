{
 "cells": [
  {
   "cell_type": "markdown",
   "metadata": {},
   "source": [
    "# Mini-project part III: Research report\n",
    "\n",
    "We've put some effort into building our collection of volumes - you can find them in [this Google Drive folder](https://drive.google.com/drive/u/0/folders/1UAaGIiqElF9YLTGIy6hQYM7QcGzosZgR). Now it's time to learn something about it. You already have lots of excellent ideas for how to apply the tools we've learned about so far. It's also a good time in the semester to review what we have learned and practice applying it in less structured settings.\n",
    "\n",
    "**You will work by yourself or in a group of up to three people** to complete a short project applying methods from the previous weeks to this collection. You will turn in the completed project as a single notebook (one submission per group) with the following sections:\n",
    "\n",
    "0. **Project team.** List members with full names and NetIDs. If your group does not contain at least one native speaker of English, let us know.\n",
    "\n",
    "1. **Question(s) (10 points).** Describe what you wanted to learn. Suggest several possible answers or hypotheses, and describe in general terms what you might expect to see if each of these answers were true (save specific measurements for the next section). For example, many students want to know the difference between horror and non-horror fiction, or between detective stories and horror fiction, but there are many ways to operationalize this question. You do not need to limit yourself to questions of genre. **Note that your question should be interesting! If the answer is obvious before you begin, or if it's something the importance of which you cannot explain, your grade will suffer (a lot).** \n",
    "\n",
    "1. **Methods (10 points).** Describe how you will use computational methods presented so far in this class to answer your question. What do the computational tools do, and how does their output relate to your question? Describe how you will process the collection into a form suitable for a model or algorithm and why you have processed it the way you have.\n",
    "\n",
    "1. **Code (20 points).** Carry out your experiments. Code should be correct (no errors) and focused (unneeded code from examples is removed). Use the notebook format effectively: code may be incorporated into multiple sections.\n",
    "\n",
    "1. **Results and discussion (40 points).** Use sorted lists, tables, and visual presentations to make your argument. Excellent projects will provide multiple views of results, and follow up on any apparent outliers or strange cases, including through careful reading of the original documents.\n",
    "\n",
    "1. **Reflection (10 points).** Describe your experience in this process. What was harder or easier than you expected? What compromises or negotiations did you have to accept to match the collection, the question, and the methods? What would you try next? Your reflections should be written as single narrative that incorporates the viewpoints of all group members.\n",
    "\n",
    "1. **Resources consulted (0 points, but -5 if missing).** Credit any online sources (Stack Overflow, blog posts, documentation, etc.) that you found helpful.\n",
    "\n",
    "1. **Responsibility statement (0 points, but -5 if missing).** See separate CMS assignment \"MP 03: Responsibility statement\". **Note:** If you worked alone on the project (a group of one), you are not required to submit the responsibility statement.\n",
    "\n",
    "\n",
    "## Submission instructions\n",
    "\n",
    "1. Complete this Jupyter Notebook.\n",
    "1. Open a group submission on CMS - Let us know if you encounter any problems with that!\n",
    "1. Assign the role of group submitter to a member of your group.\n",
    "1. Submit the completed Jupyter Notebook in the group submission on CMS.\n",
    "\n",
    "**Note:** If you worked alone on the project (a group of one), you are not required to submit the responsibility statement.\n",
    "\n",
    "Otherwise...\n",
    "\n",
    "1. Go to the CMS assignment 'MP 03: Responsibility statement'.\n",
    "1. Complete the statement, describing each group member's contributions as you see them. \n",
    "1. Upload the statement as an **individual** submission on CMS.\n",
    "\n",
    "\n",
    "## Guidance and advice\n",
    "\n",
    "Show us what you've learned so far. Try to use a range of methods while remaining focused on your chosen problem. For inspiration, consider the range of research problems you've enoucountered in the readings. Note that dictionary-based sentiment scoring projects have not historically done well without substantial additional methodological diversity.\n",
    "\n",
    "**We will grade this work based on accuracy, thoroughness, creativity, reflectiveness, and quality of presentation.** Code and results that are merely correct are generally not enough, on their own, to achieve a high score.\n",
    "\n",
    "**Scope:** this is a *mini*-project, with a short deadline. We are expecting work that is consistent with that timeframe, but that is serious, thoughtful, and rigorous. This assignment will almost certainly require more time and effort than the typical weekly homework. **For group work, the expected scope grows linearly with the number of participants.**"
   ]
  },
  {
   "cell_type": "markdown",
   "metadata": {},
   "source": [
    "# 0. Project team\n",
    "\n",
    "List here the members of your project team, including yourself."
   ]
  },
  {
   "cell_type": "markdown",
   "metadata": {},
   "source": [
    "# 1. Question(s) (10 points)"
   ]
  },
  {
   "cell_type": "code",
   "execution_count": null,
   "metadata": {},
   "outputs": [],
   "source": []
  },
  {
   "cell_type": "markdown",
   "metadata": {},
   "source": [
    "# 2. Methods (10 points)"
   ]
  },
  {
   "cell_type": "markdown",
   "metadata": {},
   "source": [
    "- tfid vectorizer\n",
    "- true labeling \n",
    "- separate corpus into horror/dectective and other\n",
    "    - training data: horror/dectective\n",
    "- classifier"
   ]
  },
  {
   "cell_type": "markdown",
   "metadata": {},
   "source": [
    "# 3. Code (20 points)"
   ]
  },
  {
   "cell_type": "code",
   "execution_count": 1,
   "metadata": {},
   "outputs": [],
   "source": [
    "# Imports (all of them!)"
   ]
  },
  {
   "cell_type": "code",
   "execution_count": null,
   "metadata": {},
   "outputs": [],
   "source": []
  },
  {
   "cell_type": "markdown",
   "metadata": {},
   "source": [
    "# 4. Results and discussion (40 points)"
   ]
  },
  {
   "cell_type": "code",
   "execution_count": null,
   "metadata": {},
   "outputs": [],
   "source": [
    "# few paragraphs\n",
    "# realistic - 3 results\n",
    "# figure, table, accuracy table\n",
    "# analyze each of the results, one paragraph at the end how they fit together\n",
    "# group -- a bit more"
   ]
  },
  {
   "cell_type": "markdown",
   "metadata": {},
   "source": [
    "# 5. Reflection (10 points)"
   ]
  },
  {
   "cell_type": "code",
   "execution_count": null,
   "metadata": {},
   "outputs": [],
   "source": []
  },
  {
   "cell_type": "markdown",
   "metadata": {},
   "source": [
    "# 6. Resources consulted (0 points, but -5 if missing)"
   ]
  },
  {
   "cell_type": "markdown",
   "metadata": {},
   "source": [
    "https://stackoverflow.com/questions/12618030/how-to-replace-back-slash-character-with-empty-string-in-python\n"
   ]
  },
  {
   "cell_type": "markdown",
   "metadata": {},
   "source": [
    "# 7. Responsibility statement (0 points, but -5 if missing)\n",
    "**See separate CMS assignment 'MP 03: Responsibility statement'.**"
   ]
  },
  {
   "cell_type": "code",
   "execution_count": null,
   "metadata": {},
   "outputs": [],
   "source": []
  }
 ],
 "metadata": {
  "kernelspec": {
   "display_name": "Python 3 (ipykernel)",
   "language": "python",
   "name": "python3"
  },
  "language_info": {
   "codemirror_mode": {
    "name": "ipython",
    "version": 3
   },
   "file_extension": ".py",
   "mimetype": "text/x-python",
   "name": "python",
   "nbconvert_exporter": "python",
   "pygments_lexer": "ipython3",
   "version": "3.9.7"
  }
 },
 "nbformat": 4,
 "nbformat_minor": 4
}
