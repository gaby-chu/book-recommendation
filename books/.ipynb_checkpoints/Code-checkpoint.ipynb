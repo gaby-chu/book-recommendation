{
 "cells": [
  {
   "cell_type": "markdown",
   "id": "8cdebc6b-d369-4d77-be3a-0c29178488b5",
   "metadata": {},
   "source": [
    "## Imports and Setup"
   ]
  },
  {
   "cell_type": "code",
   "execution_count": 1,
   "id": "47489903-1397-457f-9b6d-dde316574585",
   "metadata": {},
   "outputs": [],
   "source": [
    "%matplotlib inline\n",
    "import numpy as np\n",
    "import pandas as pd\n",
    "import matplotlib.pyplot as plt\n",
    "import os\n",
    "import seaborn as sns\n",
    "from   sklearn.decomposition import TruncatedSVD\n",
    "from   sklearn.feature_extraction.text import TfidfVectorizer"
   ]
  },
  {
   "cell_type": "code",
   "execution_count": 2,
   "id": "791d3b15-e35c-46eb-8cd1-9216d52577d0",
   "metadata": {},
   "outputs": [
    {
     "data": {
      "text/plain": [
       "(160, 34)"
      ]
     },
     "execution_count": 2,
     "metadata": {},
     "output_type": "execute_result"
    }
   ],
   "source": [
    "# class corpus metadata\n",
    "metadata = pd.read_csv(\"class_corpus_metadata.csv\")\n",
    "\n",
    "metadata.shape"
   ]
  },
  {
   "cell_type": "code",
   "execution_count": 3,
   "id": "4630ff4d-35b0-4927-be9e-349d033645f6",
   "metadata": {},
   "outputs": [],
   "source": [
    "# training data are books that are either horror or detective\n",
    "training_data = metadata[(metadata['horror']==True) | (metadata['detective']==True)]\n",
    "\n",
    "# drop books that are both horror and detective\n",
    "drop = metadata[(metadata['horror']==True) & (metadata['detective']==True)]\n",
    "training_data = training_data.drop(drop.index)\n",
    "\n",
    "# testing data are books are neither horror or detective\n",
    "testing_data = metadata[(metadata['horror']==False) & (metadata['detective']==False)]\n",
    "\n",
    "# sort titles alphabetically \n",
    "training_data = training_data.sort_values('title')\n",
    "testing_data = testing_data.sort_values('title')\n",
    "# note: training+testing+dropped row = 159 rows, class corpus = 160 rows, \"An Unkindness of Ghosts\" has no input for horror and detective column"
   ]
  },
  {
   "cell_type": "code",
   "execution_count": 4,
   "id": "e4ccc6e5-3d90-4e58-ad51-246629ba04d7",
   "metadata": {},
   "outputs": [],
   "source": [
    "# get book file names to open\n",
    "training_names = training_data.filename.values\n",
    "testing_names = testing_data.filename.values"
   ]
  },
  {
   "cell_type": "code",
   "execution_count": 46,
   "id": "704479bd-5880-4393-ae66-ee0f51791590",
   "metadata": {},
   "outputs": [],
   "source": [
    "# 1=detective, 0=horror， gold labels\n",
    "y_train=training_data.detective.values*1"
   ]
  },
  {
   "cell_type": "code",
   "execution_count": 34,
   "id": "3e150dc7-c2a1-479a-a637-c39727ae6074",
   "metadata": {},
   "outputs": [],
   "source": [
    "# open and append training books together\n",
    "\n",
    "training_books=[]\n",
    "for book in training_names:\n",
    "    with open(book, 'r',encoding='utf-8') as f:\n",
    "        file = f.read().replace(\"\\n\", \" \") \n",
    "        training_books.append(file)\n",
    "        "
   ]
  },
  {
   "cell_type": "code",
   "execution_count": 35,
   "id": "07fadfc7-3969-416e-8fb8-8585df9e9663",
   "metadata": {},
   "outputs": [],
   "source": [
    "# open and append testing books together\n",
    "\n",
    "testing_books=[]\n",
    "for book in testing_names:\n",
    "    with open(book, 'r',encoding='utf-8') as f:\n",
    "        file = f.read().replace(\"\\n\", \" \") \n",
    "        testing_books.append(file)\n",
    "        "
   ]
  },
  {
   "cell_type": "code",
   "execution_count": null,
   "id": "36f17dd8-5e44-4304-b05c-15c45e778be0",
   "metadata": {},
   "outputs": [],
   "source": []
  }
 ],
 "metadata": {
  "kernelspec": {
   "display_name": "Python 3 (ipykernel)",
   "language": "python",
   "name": "python3"
  },
  "language_info": {
   "codemirror_mode": {
    "name": "ipython",
    "version": 3
   },
   "file_extension": ".py",
   "mimetype": "text/x-python",
   "name": "python",
   "nbconvert_exporter": "python",
   "pygments_lexer": "ipython3",
   "version": "3.9.7"
  }
 },
 "nbformat": 4,
 "nbformat_minor": 5
}
