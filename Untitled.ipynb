{
 "cells": [
  {
   "cell_type": "markdown",
   "id": "8cdebc6b-d369-4d77-be3a-0c29178488b5",
   "metadata": {},
   "source": [
    "## Imports and Setup"
   ]
  },
  {
   "cell_type": "code",
   "execution_count": 6,
   "id": "47489903-1397-457f-9b6d-dde316574585",
   "metadata": {},
   "outputs": [],
   "source": [
    "%matplotlib inline\n",
    "import numpy as np\n",
    "import pandas as pd\n",
    "import matplotlib.pyplot as plt\n",
    "import os\n",
    "import seaborn as sns\n",
    "from   sklearn.decomposition import TruncatedSVD\n",
    "from   sklearn.feature_extraction.text import TfidfVectorizer"
   ]
  },
  {
   "cell_type": "code",
   "execution_count": 76,
   "id": "791d3b15-e35c-46eb-8cd1-9216d52577d0",
   "metadata": {},
   "outputs": [
    {
     "data": {
      "text/plain": [
       "(160, 34)"
      ]
     },
     "execution_count": 76,
     "metadata": {},
     "output_type": "execute_result"
    }
   ],
   "source": [
    "# class corpus metadata\n",
    "metadata = pd.read_csv(\"class_corpus_metadata.csv\")\n",
    "\n",
    "metadata.shape"
   ]
  },
  {
   "cell_type": "code",
   "execution_count": 79,
   "id": "4630ff4d-35b0-4927-be9e-349d033645f6",
   "metadata": {},
   "outputs": [],
   "source": [
    "# training data are books that are either horror or detective\n",
    "training_data = metadata[(metadata['horror']==True) | (metadata['detective']==True)]\n",
    "\n",
    "# drop books that are both horror and detective\n",
    "drop = metadata[(metadata['horror']==True) & (metadata['detective']==True)]\n",
    "training_data = training_data.drop(drop.index)\n",
    "\n",
    "# testing data are books are neither horror or detective\n",
    "testing_data = metadata[(metadata['horror']==False) & (metadata['detective']==False)]\n",
    "\n",
    "# sort titles alphabetically \n",
    "training_data = training_data.sort_values('title')\n",
    "testing_data = testing_data.sort_values('title')\n",
    "# note: training+testing+dropped row = 159 rows, class corpus = 160 rows, \"An Unkindness of Ghosts\" has no input for horror and detective column"
   ]
  },
  {
   "cell_type": "code",
   "execution_count": 122,
   "id": "e4ccc6e5-3d90-4e58-ad51-246629ba04d7",
   "metadata": {},
   "outputs": [],
   "source": [
    "training_names = training_data.filename.values\n",
    "testing_names = testing_data.filename.values"
   ]
  },
  {
   "cell_type": "code",
   "execution_count": 123,
   "id": "3e150dc7-c2a1-479a-a637-c39727ae6074",
   "metadata": {},
   "outputs": [
    {
     "ename": "FileNotFoundError",
     "evalue": "[Errno 2] No such file or directory: 'Leblanc_813.txt'",
     "output_type": "error",
     "traceback": [
      "\u001b[0;31m---------------------------------------------------------------------------\u001b[0m",
      "\u001b[0;31mFileNotFoundError\u001b[0m                         Traceback (most recent call last)",
      "\u001b[0;32m/var/folders/yf/2m7vdqqs0v16g0qhwl70d1700000gn/T/ipykernel_71108/1866001058.py\u001b[0m in \u001b[0;36m<module>\u001b[0;34m\u001b[0m\n\u001b[1;32m      1\u001b[0m \u001b[0;32mfor\u001b[0m \u001b[0mbook\u001b[0m \u001b[0;32min\u001b[0m \u001b[0mtraining_names\u001b[0m\u001b[0;34m:\u001b[0m\u001b[0;34m\u001b[0m\u001b[0;34m\u001b[0m\u001b[0m\n\u001b[0;32m----> 2\u001b[0;31m     \u001b[0;32mwith\u001b[0m \u001b[0mopen\u001b[0m\u001b[0;34m(\u001b[0m\u001b[0mbook\u001b[0m\u001b[0;34m,\u001b[0m \u001b[0;34m'r'\u001b[0m\u001b[0;34m)\u001b[0m \u001b[0;32mas\u001b[0m \u001b[0mf\u001b[0m\u001b[0;34m:\u001b[0m\u001b[0;34m\u001b[0m\u001b[0;34m\u001b[0m\u001b[0m\n\u001b[0m\u001b[1;32m      3\u001b[0m         \u001b[0mfile\u001b[0m \u001b[0;34m=\u001b[0m \u001b[0mf\u001b[0m\u001b[0;34m.\u001b[0m\u001b[0mread\u001b[0m\u001b[0;34m(\u001b[0m\u001b[0;34m)\u001b[0m\u001b[0;34m\u001b[0m\u001b[0;34m\u001b[0m\u001b[0m\n\u001b[1;32m      4\u001b[0m \u001b[0;34m\u001b[0m\u001b[0m\n",
      "\u001b[0;31mFileNotFoundError\u001b[0m: [Errno 2] No such file or directory: 'Leblanc_813.txt'"
     ]
    }
   ],
   "source": [
    "for book in training_names:\n",
    "    with open(book, 'r') as f:\n",
    "        file = f.read()\n",
    "        "
   ]
  },
  {
   "cell_type": "code",
   "execution_count": null,
   "id": "07fadfc7-3969-416e-8fb8-8585df9e9663",
   "metadata": {},
   "outputs": [],
   "source": []
  },
  {
   "cell_type": "code",
   "execution_count": null,
   "id": "2f2fcf76-77fe-45d2-8364-ad4d55d67101",
   "metadata": {},
   "outputs": [],
   "source": [
    "with open "
   ]
  }
 ],
 "metadata": {
  "kernelspec": {
   "display_name": "Python 3 (ipykernel)",
   "language": "python",
   "name": "python3"
  },
  "language_info": {
   "codemirror_mode": {
    "name": "ipython",
    "version": 3
   },
   "file_extension": ".py",
   "mimetype": "text/x-python",
   "name": "python",
   "nbconvert_exporter": "python",
   "pygments_lexer": "ipython3",
   "version": "3.9.7"
  }
 },
 "nbformat": 4,
 "nbformat_minor": 5
}
